{
 "cells": [
  {
   "cell_type": "markdown",
   "metadata": {},
   "source": [
    "# Q1. What is the concept of a metaclass?"
   ]
  },
  {
   "cell_type": "markdown",
   "metadata": {},
   "source": [
    "# ANSWER:\n",
    "## a) A metaclass is a class used to create a class. Metaclasses are usually subclasses of the type class. Just as a class functions as a template for the creation of objects, a metaclass functions as a template for the creation of classes. \n",
    "   \n",
    "## (b) Metaclasses are sometimes referred to as class factories.\n",
    "   \n",
    "## (c) We have redefine the inherited methods __new__() and __init__() within the custom metaclass that we define.\n",
    "\n",
    "## (d) The custom metaclass returns a class \n",
    "\n",
    "## (e) Metaclasses may have its methods and data to provide behavior for their classes\n"
   ]
  },
  {
   "cell_type": "code",
   "execution_count": 2,
   "metadata": {},
   "outputs": [
    {
     "name": "stdout",
     "output_type": "stream",
     "text": [
      "89\n"
     ]
    }
   ],
   "source": [
    "#e.g.\n",
    "\n",
    "class Meta1(type):\n",
    "    \n",
    "    def __init__(cls,name,bases,dct):\n",
    "        \n",
    "        super().__init__(cls)\n",
    "        cls.attr=89\n",
    "#        return cls\n",
    "\n",
    "class Demo(metaclass=Meta1):\n",
    "    pass\n",
    "\n",
    "demo=Demo()\n",
    "\n",
    "print(demo.attr)"
   ]
  },
  {
   "cell_type": "markdown",
   "metadata": {},
   "source": [
    "# Q2. What is the best way to declare a class&#39;s metaclass?"
   ]
  },
  {
   "cell_type": "code",
   "execution_count": 3,
   "metadata": {},
   "outputs": [
    {
     "data": {
      "text/plain": [
       "400"
      ]
     },
     "execution_count": 3,
     "metadata": {},
     "output_type": "execute_result"
    }
   ],
   "source": [
    "class Meta2(type):\n",
    "    \n",
    "    def __init__(cls, name, bases, dct):\n",
    "        cls.variable = 400\n",
    "\n",
    "class A(metaclass=Meta2):  # The class's metaclass declaration\n",
    "    pass\n",
    "\n",
    "A.variable"
   ]
  },
  {
   "cell_type": "markdown",
   "metadata": {},
   "source": [
    "# Q3. How do class decorators overlap with metaclasses for handling classes?"
   ]
  },
  {
   "cell_type": "markdown",
   "metadata": {},
   "source": [
    "# ANSWER:\n",
    "## Both decorators and metaclasses can be used to generate classes.\n",
    "\n",
    "## Decorators can be used to manage both instances and classes, and they intersect with metaclasses in the second of these roles."
   ]
  },
  {
   "cell_type": "markdown",
   "metadata": {},
   "source": [
    "# Q4. How do class decorators overlap with metaclasses for handling instances?"
   ]
  },
  {
   "cell_type": "markdown",
   "metadata": {},
   "source": [
    "# ANSWER:\n",
    "## Decorators and Metaclasses can be used to create instances.\n",
    "\n",
    "## Class decorators as a tool for augmenting instance creation calls. \n",
    "## Because they work by automatically rebinding a class name to the result of a function"
   ]
  }
 ],
 "metadata": {
  "kernelspec": {
   "display_name": "Python 3",
   "language": "python",
   "name": "python3"
  },
  "language_info": {
   "codemirror_mode": {
    "name": "ipython",
    "version": 3
   },
   "file_extension": ".py",
   "mimetype": "text/x-python",
   "name": "python",
   "nbconvert_exporter": "python",
   "pygments_lexer": "ipython3",
   "version": "3.8.3"
  }
 },
 "nbformat": 4,
 "nbformat_minor": 4
}
